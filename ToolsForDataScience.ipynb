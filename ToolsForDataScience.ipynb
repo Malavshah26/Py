{
  "nbformat": 4,
  "nbformat_minor": 0,
  "metadata": {
    "colab": {
      "provenance": [],
      "authorship_tag": "ABX9TyMWvFtcEhw19dJ2Wt/5dbSf",
      "include_colab_link": true
    },
    "kernelspec": {
      "name": "python3",
      "display_name": "Python 3"
    },
    "language_info": {
      "name": "python"
    }
  },
  "cells": [
    {
      "cell_type": "markdown",
      "metadata": {
        "id": "view-in-github",
        "colab_type": "text"
      },
      "source": [
        "<a href=\"https://colab.research.google.com/github/Malavshah26/Py/blob/main/ToolsForDataScience.ipynb\" target=\"_parent\"><img src=\"https://colab.research.google.com/assets/colab-badge.svg\" alt=\"Open In Colab\"/></a>"
      ]
    },
    {
      "cell_type": "markdown",
      "source": [
        "#ToolsForDataScience\n"
      ],
      "metadata": {
        "id": "c8xlSUkw7Nw4"
      }
    },
    {
      "cell_type": "markdown",
      "source": [
        "#Introduction"
      ],
      "metadata": {
        "id": "ZAK33xn37eCP"
      }
    },
    {
      "cell_type": "markdown",
      "source": [
        "#Data science languages:\n",
        " · Python \n",
        " · R \n",
        " · SQL \n",
        " · Java \n",
        " · Julia \n",
        " · Scala"
      ],
      "metadata": {
        "id": "a7rMKBTW8FH6"
      }
    },
    {
      "cell_type": "markdown",
      "source": [
        "#Libraries for Data Science :\n",
        "TensorFlow,\n",
        "NumPy,\n",
        "SciPy, \n",
        "Pandas,\n",
        "Matplotlib, \n",
        "Keras,\n",
        "SciKit-Learn,\n",
        "PyTorch,\n",
        "Scrapy,\n",
        "BeautifulSoup"
      ],
      "metadata": {
        "id": "7FJcKJgW8FLt"
      }
    },
    {
      "cell_type": "markdown",
      "source": [
        "#Tools for data science\n",
        "Statistical Analysis System (SAS),\n",
        "Apache Hadoop,\n",
        "Tableau,\n",
        "TensorFlow,\n",
        "BigML,\n",
        "Knime,\n",
        "RapidMiner,\n",
        "Excel,\n",
        "Apache Flink,\n",
        "PowerBI,\n",
        "Google Analytics"
      ],
      "metadata": {
        "id": "37fI3TJh8FUr"
      }
    },
    {
      "cell_type": "markdown",
      "source": [
        "#Arithmetic expression examples\n",
        "\n",
        "5 -- a number is an arithmetic expression.\n",
        "(3 + 4) -- the sum of numbers is an arithmetic expression.\n",
        "(7 - 3) -- the difference of two numbers is an arithmetic expression.\n",
        "(2 5), 2 5 -- a product of two numbers is an arithmetic expression."
      ],
      "metadata": {
        "id": "P9aWMN1581PI"
      }
    },
    {
      "cell_type": "code",
      "source": [
        "num_1 = 2\n",
        "num_2 = 3\n",
        "product = num_1 * num_2\n",
        "print(\"Product of {} and {} is {}\".format(num_1, num_2,product))\n"
      ],
      "metadata": {
        "colab": {
          "base_uri": "https://localhost:8080/"
        },
        "id": "glZ2pF0f9F9C",
        "outputId": "9bf873aa-f79a-4d7c-8fdd-a9e5a6f3a975"
      },
      "execution_count": null,
      "outputs": [
        {
          "output_type": "stream",
          "name": "stdout",
          "text": [
            "Product of 2 and 3 is 6\n"
          ]
        }
      ]
    },
    {
      "cell_type": "code",
      "source": [
        "def convert(sec):\n",
        "   sec = sec % (24 * 3600)\n",
        "   hour = sec // 3600\n",
        "   sec %= 3600\n",
        "   min = sec // 60\n",
        "   sec %= 60\n",
        "   print(\"seconds value in hours:\",hour)\n",
        "   print(\"seconds value in minutes:\",min)\n",
        "   return \"%02d:%02d:%02d\" % (hour, min, sec) \n",
        "\n",
        "n = 10000\n",
        "print(\"Time in preferred format :-\",convert(n))"
      ],
      "metadata": {
        "colab": {
          "base_uri": "https://localhost:8080/"
        },
        "id": "xl4Iv3N99cvD",
        "outputId": "baaebf28-ee28-4509-c34d-51a4c34bca8d"
      },
      "execution_count": null,
      "outputs": [
        {
          "output_type": "stream",
          "name": "stdout",
          "text": [
            "seconds value in hours: 2\n",
            "seconds value in minutes: 46\n",
            "Time in preferred format :- 02:46:40\n"
          ]
        }
      ]
    },
    {
      "cell_type": "code",
      "source": [],
      "metadata": {
        "id": "Om7w_KO295UO"
      },
      "execution_count": null,
      "outputs": []
    },
    {
      "cell_type": "markdown",
      "source": [
        "#MALAV SHAH"
      ],
      "metadata": {
        "id": "y8VGLeNT97O9"
      }
    }
  ]
}